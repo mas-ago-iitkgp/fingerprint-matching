{
 "cells": [
  {
   "cell_type": "markdown",
   "id": "719f9e47",
   "metadata": {},
   "source": [
    "**Hybrid Matching algorithm**\n",
    "\n",
    "\n",
    "This project demonstrates a hybrid fingerprint matching approach that combines:\n",
    "\n",
    "1.Minutiae features (Level 2 features: terminations and bifurcations).\n",
    "\n",
    "2.Texture features (Level 3 features: ridge patterns using Local Binary Patterns).\n",
    "\n",
    "Matching is performed using a score-level fusion of both feature types to improve accuracy over using minutiae or texture alone.\n",
    "\n"
   ]
  },
  {
   "cell_type": "code",
   "execution_count": 17,
   "id": "8a3587ff",
   "metadata": {},
   "outputs": [],
   "source": [
    "# Importing libraries\n",
    "import cv2\n",
    "import numpy as np\n",
    "import matplotlib\n",
    "import sklearn\n",
    "import skimage\n",
    "from skimage.feature import local_binary_pattern\n",
    "from scipy.spatial.distance import euclidean"
   ]
  },
  {
   "cell_type": "code",
   "execution_count": null,
   "id": "bbd067e9",
   "metadata": {},
   "outputs": [],
   "source": [
    "# Processing & Minnutiae extraction\n",
    " \n",
    "# Convert images to grayscale.\n",
    "# Apply Gaussian blur to reduce noise.\n",
    "# Use binary thresholding to prepare the image for ridge detection.\n",
    "\n",
    "def extract_minutiae(image):\n",
    "    gray = cv2.cvtColor(image, cv2.COLOR_BGR2GRAY)\n",
    "    blur = cv2.GaussianBlur(gray, (5,5), 0)\n",
    "    _, binary = cv2.threshold(blur, 127, 255, cv2.THRESH_BINARY_INV)\n",
    "    \n",
    "    skeleton = cv2.ximgproc.thinning(binary)\n",
    "\n",
    "    # Extract endpoints & bifurcations\n",
    "    minutiae_points = []\n",
    "\n",
    "    for y in range(1, skeleton.shape[0] - 1):\n",
    "        for x in range(1, skeleton.shape[1] - 1):\n",
    "            if skeleton[y, x] == 255:\n",
    "                window = skeleton[y-1:y+2, x-1:x+2]\n",
    "                if np.sum(window) == 255 * 2:\n",
    "                    minutiae_points.append(('termination', (x, y)))\n",
    "                elif np.sum(window) >= 255 * 4:\n",
    "                    minutiae_points.append(('bifurcation', (x, y)))\n",
    "\n",
    "    return minutiae_points\n"
   ]
  },
  {
   "cell_type": "code",
   "execution_count": null,
   "id": "1207977f",
   "metadata": {},
   "outputs": [],
   "source": [
    "# Texture Feature Extraction (Using Local Binary Patterns)\n",
    "\n",
    "def extract_texture(image):\n",
    "    gray = cv2.cvtColor(image, cv2.COLOR_BGR2GRAY)\n",
    "    radius = 3\n",
    "    n_points = 8 * radius\n",
    "\n",
    "    lbp = local_binary_pattern(gray, n_points, radius, method='uniform')\n",
    "    hist, _ = np.histogram(lbp.ravel(), bins=np.arange(0, n_points + 3), density=True)\n",
    "\n",
    "    return hist\n"
   ]
  },
  {
   "cell_type": "code",
   "execution_count": null,
   "id": "5380c69d",
   "metadata": {},
   "outputs": [],
   "source": [
    "# Minutiae Matching using simple count comparison\n",
    "\n",
    "def minutiae_similarity(minutiae1, minutiae2):\n",
    "    min_count = min(len(minutiae1), len(minutiae2))\n",
    "    max_count = max(len(minutiae1), len(minutiae2))\n",
    "    if max_count == 0:\n",
    "        return 0\n",
    "    return min_count / max_count\n"
   ]
  },
  {
   "cell_type": "code",
   "execution_count": null,
   "id": "62a0c335",
   "metadata": {},
   "outputs": [],
   "source": [
    "# Texture Matching using histogram distance\n",
    "\n",
    "def texture_similarity(hist1, hist2):\n",
    "    distance = euclidean(hist1, hist2)\n",
    "    return 1 / (1 + distance)  # Higher is better (normalized)\n"
   ]
  },
  {
   "cell_type": "code",
   "execution_count": null,
   "id": "f8b48984",
   "metadata": {},
   "outputs": [],
   "source": [
    "# Fusion matching\n",
    "\n",
    "def hybrid_score(minutiae_score, texture_score, w1=0.6, w2=0.4):\n",
    "    return w1 * minutiae_score + w2 * texture_score\n"
   ]
  },
  {
   "cell_type": "code",
   "execution_count": 18,
   "id": "460c3ac4",
   "metadata": {},
   "outputs": [],
   "source": [
    "# Matching Function:\n",
    "\n",
    "def match_fingerprints(img1, img2):\n",
    "    # Minutiae\n",
    "    minutiae1 = extract_minutiae(img1)\n",
    "    minutiae2 = extract_minutiae(img2)\n",
    "    min_score = minutiae_similarity(minutiae1, minutiae2)\n",
    "\n",
    "    # Texture\n",
    "    tex1 = extract_texture(img1)\n",
    "    tex2 = extract_texture(img2)\n",
    "    tex_score = texture_similarity(tex1, tex2)\n",
    "\n",
    "    # Hybrid Score\n",
    "    final_score = hybrid_score(min_score, tex_score)\n",
    "\n",
    "    return final_score\n"
   ]
  },
  {
   "cell_type": "code",
   "execution_count": 19,
   "id": "9d18195f",
   "metadata": {},
   "outputs": [
    {
     "name": "stdout",
     "output_type": "stream",
     "text": [
      "Matching Score: 0.3908\n",
      "FINGERPRINT NOT MATCHED\n"
     ]
    }
   ],
   "source": [
    "# main execution\n",
    "\n",
    "img1 = cv2.imread('finger1.tif')\n",
    "img2 = cv2.imread('finger2.tif')\n",
    "\n",
    "score = match_fingerprints(img1, img2)\n",
    "print(f\"Matching Score: {score:.4f}\")\n",
    "\n",
    "if score > 0.5:\n",
    "    print(\"FINGERPRINT MATCHED\")\n",
    "else:\n",
    "    print(\"FINGERPRINT NOT MATCHED\")\n"
   ]
  }
 ],
 "metadata": {
  "kernelspec": {
   "display_name": "env",
   "language": "python",
   "name": "python3"
  },
  "language_info": {
   "codemirror_mode": {
    "name": "ipython",
    "version": 3
   },
   "file_extension": ".py",
   "mimetype": "text/x-python",
   "name": "python",
   "nbconvert_exporter": "python",
   "pygments_lexer": "ipython3",
   "version": "3.9.10"
  }
 },
 "nbformat": 4,
 "nbformat_minor": 5
}
