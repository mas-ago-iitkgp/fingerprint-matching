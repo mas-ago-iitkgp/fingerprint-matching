{
 "cells": [
  {
   "cell_type": "markdown",
   "id": "9fe1b389",
   "metadata": {},
   "source": [
    "# 🧠 MCC Fingerprint Matching for 8-bit Grayscale TIFFs\n",
    "\n",
    "This notebook demonstrates fingerprint matching using the Minutia Cylinder-Code (MCC) algorithm.\n",
    "\n",
    "✅ Adapted specifically for **8-bit grayscale TIFF files**.\n",
    "\n",
    "Steps:\n",
    "- Load and preprocess TIFF images\n",
    "- Compute orientation field\n",
    "- Apply Gabor filtering\n",
    "- Extract minutiae (mock via Harris corners)\n",
    "- Generate MCC-style descriptors\n",
    "- Match using cosine similarity"
   ]
  },
  {
   "cell_type": "code",
   "execution_count": 2,
   "id": "d928c13a",
   "metadata": {},
   "outputs": [
    {
     "name": "stdout",
     "output_type": "stream",
     "text": [
      "Requirement already satisfied: numpy in d:\\rc\\project\\bf\\fingerprint-matching\\env\\lib\\site-packages (2.0.2)Note: you may need to restart the kernel to use updated packages.\n",
      "\n",
      "Requirement already satisfied: matplotlib in d:\\rc\\project\\bf\\fingerprint-matching\\env\\lib\\site-packages (3.9.4)\n",
      "Requirement already satisfied: opencv-python in d:\\rc\\project\\bf\\fingerprint-matching\\env\\lib\\site-packages (4.12.0.88)\n",
      "Requirement already satisfied: scikit-learn in d:\\rc\\project\\bf\\fingerprint-matching\\env\\lib\\site-packages (1.6.1)\n",
      "Requirement already satisfied: contourpy>=1.0.1 in d:\\rc\\project\\bf\\fingerprint-matching\\env\\lib\\site-packages (from matplotlib) (1.3.0)\n",
      "Requirement already satisfied: cycler>=0.10 in d:\\rc\\project\\bf\\fingerprint-matching\\env\\lib\\site-packages (from matplotlib) (0.12.1)\n",
      "Requirement already satisfied: fonttools>=4.22.0 in d:\\rc\\project\\bf\\fingerprint-matching\\env\\lib\\site-packages (from matplotlib) (4.59.0)\n",
      "Requirement already satisfied: kiwisolver>=1.3.1 in d:\\rc\\project\\bf\\fingerprint-matching\\env\\lib\\site-packages (from matplotlib) (1.4.7)\n",
      "Requirement already satisfied: packaging>=20.0 in d:\\rc\\project\\bf\\fingerprint-matching\\env\\lib\\site-packages (from matplotlib) (25.0)\n",
      "Requirement already satisfied: pillow>=8 in d:\\rc\\project\\bf\\fingerprint-matching\\env\\lib\\site-packages (from matplotlib) (11.3.0)\n",
      "Requirement already satisfied: pyparsing>=2.3.1 in d:\\rc\\project\\bf\\fingerprint-matching\\env\\lib\\site-packages (from matplotlib) (3.2.3)\n",
      "Requirement already satisfied: python-dateutil>=2.7 in d:\\rc\\project\\bf\\fingerprint-matching\\env\\lib\\site-packages (from matplotlib) (2.9.0.post0)\n",
      "Requirement already satisfied: importlib-resources>=3.2.0 in d:\\rc\\project\\bf\\fingerprint-matching\\env\\lib\\site-packages (from matplotlib) (6.5.2)\n",
      "Requirement already satisfied: scipy>=1.6.0 in d:\\rc\\project\\bf\\fingerprint-matching\\env\\lib\\site-packages (from scikit-learn) (1.13.1)\n",
      "Requirement already satisfied: joblib>=1.2.0 in d:\\rc\\project\\bf\\fingerprint-matching\\env\\lib\\site-packages (from scikit-learn) (1.5.1)\n",
      "Requirement already satisfied: threadpoolctl>=3.1.0 in d:\\rc\\project\\bf\\fingerprint-matching\\env\\lib\\site-packages (from scikit-learn) (3.6.0)\n",
      "Requirement already satisfied: zipp>=3.1.0 in d:\\rc\\project\\bf\\fingerprint-matching\\env\\lib\\site-packages (from importlib-resources>=3.2.0->matplotlib) (3.23.0)\n",
      "Requirement already satisfied: six>=1.5 in d:\\rc\\project\\bf\\fingerprint-matching\\env\\lib\\site-packages (from python-dateutil>=2.7->matplotlib) (1.17.0)\n"
     ]
    }
   ],
   "source": [
    "%pip install numpy matplotlib opencv-python scikit-learn"
   ]
  },
  {
   "cell_type": "code",
   "execution_count": 1,
   "id": "fe507cf9",
   "metadata": {},
   "outputs": [],
   "source": [
    "# 📦 Imports\n",
    "import cv2\n",
    "import numpy as np\n",
    "import matplotlib.pyplot as plt\n",
    "from PIL import Image\n",
    "from skimage.morphology import skeletonize\n",
    "from skimage.filters import threshold_otsu\n",
    "from scipy.spatial.distance import cosine\n",
    "from scipy.ndimage import sobel\n",
    "from skimage.feature import corner_peaks"
   ]
  },
  {
   "cell_type": "code",
   "execution_count": null,
   "id": "d33db1ce",
   "metadata": {},
   "outputs": [],
   "source": [
    "# 📥 Load TIFF as grayscale and convert it into numpy array\n",
    "def load_tiff_as_grayscale(path):\n",
    "    img = Image.open(path).convert('L')\n",
    "    return np.array(img, dtype=np.uint8)"
   ]
  },
  {
   "cell_type": "code",
   "execution_count": null,
   "id": "a927e51d",
   "metadata": {},
   "outputs": [],
   "source": [
    "# ⚙️ Preprocessing: Binarize and skeletonize\n",
    "def preprocess_image(gray_img):\n",
    "    thresh = threshold_otsu(gray_img)\n",
    "    binary = gray_img > thresh\n",
    "    skeleton = skeletonize(binary)\n",
    "    return skeleton.astype(np.uint8), gray_img"
   ]
  },
  {
   "cell_type": "code",
   "execution_count": null,
   "id": "70ad0623",
   "metadata": {},
   "outputs": [],
   "source": [
    "# 📐 Compute orientation field\n",
    "def compute_orientation_field(img, block_size=16):\n",
    "    rows, cols = img.shape\n",
    "    orientation = np.zeros((rows // block_size, cols // block_size))\n",
    "    \n",
    "    for i in range(0, rows - block_size, block_size):\n",
    "        for j in range(0, cols - block_size, block_size):\n",
    "            block = img[i:i+block_size, j:j+block_size]\n",
    "            dx = sobel(block, axis=1)\n",
    "            dy = sobel(block, axis=0)\n",
    "            v = 2 * np.sum(dx * dy)\n",
    "            u = np.sum(dx**2 - dy**2)\n",
    "            orientation[i//block_size, j//block_size] = 0.5 * np.arctan2(v, u)\n",
    "    return orientation"
   ]
  },
  {
   "cell_type": "code",
   "execution_count": null,
   "id": "20be6ad9",
   "metadata": {},
   "outputs": [],
   "source": [
    "# 🎨 Gabor filtering\n",
    "def apply_gabor_filter(img):\n",
    "    ksize = 21\n",
    "    sigma = 5.0\n",
    "    lambd = 10.0\n",
    "    gamma = 0.5\n",
    "    psi = 0\n",
    "    responses = []\n",
    "    for theta in np.linspace(0, np.pi, 8, endpoint=False):\n",
    "        kernel = cv2.getGaborKernel((ksize, ksize), sigma, theta, lambd, gamma, psi)\n",
    "        fimg = cv2.filter2D(img, cv2.CV_32F, kernel)\n",
    "        responses.append(fimg)\n",
    "    return np.max(responses, axis=0)"
   ]
  },
  {
   "cell_type": "code",
   "execution_count": null,
   "id": "7d36db1d",
   "metadata": {},
   "outputs": [],
   "source": [
    "# 🔍 Extract mock minutiae (top corners)\n",
    "def extract_minutiae_points(skeleton):\n",
    "    corners = corner_peaks(cv2.cornerHarris(skeleton.astype(np.float32), 2, 3, 0.04), min_distance=10)\n",
    "    return corners[:50]"
   ]
  },
  {
   "cell_type": "code",
   "execution_count": null,
   "id": "d7eef6d2",
   "metadata": {},
   "outputs": [],
   "source": [
    "# 🧬 Generate MCC-style descriptors\n",
    "def generate_mcc_descriptors(minutiae, orientation_field, radius=16, bins=8):\n",
    "    descriptors = []\n",
    "    for (y, x) in minutiae:\n",
    "        patch = np.zeros((bins, bins))\n",
    "        for (y2, x2) in minutiae:\n",
    "            dy, dx = y2 - y, x2 - x\n",
    "            dist = np.hypot(dx, dy)\n",
    "            if dist < radius and dist != 0:\n",
    "                bin_x = int((dx + radius) * bins / (2 * radius))\n",
    "                bin_y = int((dy + radius) * bins / (2 * radius))\n",
    "                if 0 <= bin_x < bins and 0 <= bin_y < bins:\n",
    "                    angle = orientation_field[y2//16, x2//16] if 0 <= y2//16 < orientation_field.shape[0] and 0 <= x2//16 < orientation_field.shape[1] else 0\n",
    "                    patch[bin_y, bin_x] += np.cos(angle)\n",
    "        descriptors.append(patch.flatten())\n",
    "    return np.array(descriptors)"
   ]
  },
  {
   "cell_type": "code",
   "execution_count": null,
   "id": "ee6b870f",
   "metadata": {},
   "outputs": [],
   "source": [
    "# 🧪 Match descriptors using cosine similarity\n",
    "def match_fingerprints(desc1, desc2):\n",
    "    scores = []\n",
    "    for d1 in desc1:\n",
    "        if np.linalg.norm(d1) == 0:\n",
    "            continue\n",
    "        for d2 in desc2:\n",
    "            if np.linalg.norm(d2) == 0:\n",
    "                continue\n",
    "            sim = 1 - cosine(d1, d2)\n",
    "            if not np.isnan(sim):\n",
    "                scores.append(sim)\n",
    "    return np.mean(sorted(scores, reverse=True)[:10]) if scores else 0.0"
   ]
  },
  {
   "cell_type": "code",
   "execution_count": null,
   "id": "168b1fd8",
   "metadata": {},
   "outputs": [],
   "source": [
    "# 🚀 Run the full pipeline on TIFF images\n",
    "gray1 = load_tiff_as_grayscale('finger1.tif')\n",
    "gray2 = load_tiff_as_grayscale('finger2.tif')\n",
    "\n",
    "skel1, _ = preprocess_image(gray1)\n",
    "skel2, _ = preprocess_image(gray2)\n",
    "\n",
    "orient1 = compute_orientation_field(gray1)\n",
    "orient2 = compute_orientation_field(gray2)\n",
    "\n",
    "filtered1 = apply_gabor_filter(gray1)\n",
    "filtered2 = apply_gabor_filter(gray2)\n",
    "\n",
    "minu1 = extract_minutiae_points(skel1)\n",
    "minu2 = extract_minutiae_points(skel2)\n",
    "\n",
    "desc1 = generate_mcc_descriptors(minu1, orient1)\n",
    "desc2 = generate_mcc_descriptors(minu2, orient2)\n",
    "\n",
    "similarity = match_fingerprints(desc1, desc2)\n",
    "print(f\"🔗 Similarity Score: {similarity:.4f}\")"
   ]
  },
  {
   "cell_type": "code",
   "execution_count": null,
   "id": "9238ed13",
   "metadata": {},
   "outputs": [],
   "source": [
    "# 📊 Visualization\n",
    "plt.subplot(1,2,1)\n",
    "plt.imshow(skel1, cmap='gray')\n",
    "plt.scatter([x[1] for x in minu1], [x[0] for x in minu1], color='red')\n",
    "plt.title(\"Fingerprint 1\")\n",
    "\n",
    "plt.subplot(1,2,2)\n",
    "plt.imshow(skel2, cmap='gray')\n",
    "plt.scatter([x[1] for x in minu2], [x[0] for x in minu2], color='blue')\n",
    "plt.title(\"Fingerprint 2\")\n",
    "plt.show()"
   ]
  }
 ],
 "metadata": {
  "kernelspec": {
   "display_name": "env",
   "language": "python",
   "name": "python3"
  },
  "language_info": {
   "codemirror_mode": {
    "name": "ipython",
    "version": 3
   },
   "file_extension": ".py",
   "mimetype": "text/x-python",
   "name": "python",
   "nbconvert_exporter": "python",
   "pygments_lexer": "ipython3",
   "version": "3.9.10"
  }
 },
 "nbformat": 4,
 "nbformat_minor": 5
}
