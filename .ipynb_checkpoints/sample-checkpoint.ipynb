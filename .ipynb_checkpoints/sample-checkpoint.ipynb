{
 "cells": [
  {
   "cell_type": "code",
   "execution_count": null,
   "id": "8a3587ff",
   "metadata": {},
   "outputs": [
    {
     "name": "stdout",
     "output_type": "stream",
     "text": [
      "All packages installed successfully!\n"
     ]
    }
   ],
   "source": [
    "import cv2\n",
    "import numpy\n",
    "import matplotlib\n",
    "import sklearn\n",
    "import skimage"
   ]
  },
  {
   "cell_type": "code",
   "execution_count": 2,
   "id": "bbd067e9",
   "metadata": {},
   "outputs": [],
   "source": [
    "def extract_minutiae(image):\n",
    "    gray = cv2.cvtColor(image, cv2.COLOR_BGR2GRAY)\n",
    "    blur = cv2.GaussianBlur(gray, (5,5), 0)\n",
    "    _, binary = cv2.threshold(blur, 127, 255, cv2.THRESH_BINARY_INV)\n",
    "    \n",
    "    skeleton = cv2.ximgproc.thinning(binary)\n",
    "\n",
    "    # Extract endpoints (termination) & bifurcations\n",
    "    minutiae_points = []\n",
    "\n",
    "    for y in range(1, skeleton.shape[0] - 1):\n",
    "        for x in range(1, skeleton.shape[1] - 1):\n",
    "            if skeleton[y, x] == 255:\n",
    "                window = skeleton[y-1:y+2, x-1:x+2]\n",
    "                if np.sum(window) == 255 * 2:\n",
    "                    minutiae_points.append(('termination', (x, y)))\n",
    "                elif np.sum(window) >= 255 * 4:\n",
    "                    minutiae_points.append(('bifurcation', (x, y)))\n",
    "\n",
    "    return minutiae_points\n"
   ]
  },
  {
   "cell_type": "code",
   "execution_count": 3,
   "id": "1207977f",
   "metadata": {},
   "outputs": [],
   "source": [
    "def extract_texture(image):\n",
    "    gray = cv2.cvtColor(image, cv2.COLOR_BGR2GRAY)\n",
    "    radius = 3\n",
    "    n_points = 8 * radius\n",
    "\n",
    "    lbp = local_binary_pattern(gray, n_points, radius, method='uniform')\n",
    "    hist, _ = np.histogram(lbp.ravel(), bins=np.arange(0, n_points + 3), density=True)\n",
    "\n",
    "    return hist\n"
   ]
  },
  {
   "cell_type": "code",
   "execution_count": 4,
   "id": "5380c69d",
   "metadata": {},
   "outputs": [],
   "source": [
    "def minutiae_similarity(minutiae1, minutiae2):\n",
    "    min_count = min(len(minutiae1), len(minutiae2))\n",
    "    max_count = max(len(minutiae1), len(minutiae2))\n",
    "    if max_count == 0:\n",
    "        return 0\n",
    "    return min_count / max_count\n"
   ]
  },
  {
   "cell_type": "code",
   "execution_count": 6,
   "id": "62a0c335",
   "metadata": {},
   "outputs": [],
   "source": [
    "def texture_similarity(hist1, hist2):\n",
    "    distance = euclidean(hist1, hist2)\n",
    "    return 1 / (1 + distance)  # Higher is better (normalized)\n"
   ]
  },
  {
   "cell_type": "code",
   "execution_count": 7,
   "id": "f8b48984",
   "metadata": {},
   "outputs": [],
   "source": [
    "def hybrid_score(minutiae_score, texture_score, w1=0.6, w2=0.4):\n",
    "    return w1 * minutiae_score + w2 * texture_score\n"
   ]
  },
  {
   "cell_type": "code",
   "execution_count": 8,
   "id": "460c3ac4",
   "metadata": {},
   "outputs": [],
   "source": [
    "def match_fingerprints(img1, img2):\n",
    "    # Minutiae\n",
    "    minutiae1 = extract_minutiae(img1)\n",
    "    minutiae2 = extract_minutiae(img2)\n",
    "    min_score = minutiae_similarity(minutiae1, minutiae2)\n",
    "\n",
    "    # Texture\n",
    "    tex1 = extract_texture(img1)\n",
    "    tex2 = extract_texture(img2)\n",
    "    tex_score = texture_similarity(tex1, tex2)\n",
    "\n",
    "    # Hybrid Score\n",
    "    final_score = hybrid_score(min_score, tex_score)\n",
    "\n",
    "    return final_score\n"
   ]
  },
  {
   "cell_type": "code",
   "execution_count": 11,
   "id": "9d18195f",
   "metadata": {},
   "outputs": [
    {
     "ename": "AttributeError",
     "evalue": "module 'cv2' has no attribute 'ximgproc'",
     "output_type": "error",
     "traceback": [
      "\u001b[1;31m---------------------------------------------------------------------------\u001b[0m",
      "\u001b[1;31mAttributeError\u001b[0m                            Traceback (most recent call last)",
      "Cell \u001b[1;32mIn[11], line 4\u001b[0m\n\u001b[0;32m      1\u001b[0m img1 \u001b[38;5;241m=\u001b[39m cv2\u001b[38;5;241m.\u001b[39mimread(\u001b[38;5;124m'\u001b[39m\u001b[38;5;124mfinger1.tif\u001b[39m\u001b[38;5;124m'\u001b[39m)\n\u001b[0;32m      2\u001b[0m img2 \u001b[38;5;241m=\u001b[39m cv2\u001b[38;5;241m.\u001b[39mimread(\u001b[38;5;124m'\u001b[39m\u001b[38;5;124mfinger2.tif\u001b[39m\u001b[38;5;124m'\u001b[39m)\n\u001b[1;32m----> 4\u001b[0m score \u001b[38;5;241m=\u001b[39m \u001b[43mmatch_fingerprints\u001b[49m\u001b[43m(\u001b[49m\u001b[43mimg1\u001b[49m\u001b[43m,\u001b[49m\u001b[43m \u001b[49m\u001b[43mimg2\u001b[49m\u001b[43m)\u001b[49m\n\u001b[0;32m      5\u001b[0m \u001b[38;5;28mprint\u001b[39m(\u001b[38;5;124mf\u001b[39m\u001b[38;5;124m\"\u001b[39m\u001b[38;5;124mMatching Score: \u001b[39m\u001b[38;5;132;01m{\u001b[39;00mscore\u001b[38;5;132;01m:\u001b[39;00m\u001b[38;5;124m.4f\u001b[39m\u001b[38;5;132;01m}\u001b[39;00m\u001b[38;5;124m\"\u001b[39m)\n\u001b[0;32m      7\u001b[0m \u001b[38;5;28;01mif\u001b[39;00m score \u001b[38;5;241m>\u001b[39m \u001b[38;5;241m0.5\u001b[39m:\n",
      "Cell \u001b[1;32mIn[8], line 3\u001b[0m, in \u001b[0;36mmatch_fingerprints\u001b[1;34m(img1, img2)\u001b[0m\n\u001b[0;32m      1\u001b[0m \u001b[38;5;28;01mdef\u001b[39;00m\u001b[38;5;250m \u001b[39m\u001b[38;5;21mmatch_fingerprints\u001b[39m(img1, img2):\n\u001b[0;32m      2\u001b[0m     \u001b[38;5;66;03m# Minutiae\u001b[39;00m\n\u001b[1;32m----> 3\u001b[0m     minutiae1 \u001b[38;5;241m=\u001b[39m \u001b[43mextract_minutiae\u001b[49m\u001b[43m(\u001b[49m\u001b[43mimg1\u001b[49m\u001b[43m)\u001b[49m\n\u001b[0;32m      4\u001b[0m     minutiae2 \u001b[38;5;241m=\u001b[39m extract_minutiae(img2)\n\u001b[0;32m      5\u001b[0m     min_score \u001b[38;5;241m=\u001b[39m minutiae_similarity(minutiae1, minutiae2)\n",
      "Cell \u001b[1;32mIn[2], line 6\u001b[0m, in \u001b[0;36mextract_minutiae\u001b[1;34m(image)\u001b[0m\n\u001b[0;32m      3\u001b[0m blur \u001b[38;5;241m=\u001b[39m cv2\u001b[38;5;241m.\u001b[39mGaussianBlur(gray, (\u001b[38;5;241m5\u001b[39m,\u001b[38;5;241m5\u001b[39m), \u001b[38;5;241m0\u001b[39m)\n\u001b[0;32m      4\u001b[0m _, binary \u001b[38;5;241m=\u001b[39m cv2\u001b[38;5;241m.\u001b[39mthreshold(blur, \u001b[38;5;241m127\u001b[39m, \u001b[38;5;241m255\u001b[39m, cv2\u001b[38;5;241m.\u001b[39mTHRESH_BINARY_INV)\n\u001b[1;32m----> 6\u001b[0m skeleton \u001b[38;5;241m=\u001b[39m \u001b[43mcv2\u001b[49m\u001b[38;5;241;43m.\u001b[39;49m\u001b[43mximgproc\u001b[49m\u001b[38;5;241m.\u001b[39mthinning(binary)\n\u001b[0;32m      8\u001b[0m \u001b[38;5;66;03m# Extract endpoints (termination) & bifurcations\u001b[39;00m\n\u001b[0;32m      9\u001b[0m minutiae_points \u001b[38;5;241m=\u001b[39m []\n",
      "\u001b[1;31mAttributeError\u001b[0m: module 'cv2' has no attribute 'ximgproc'"
     ]
    }
   ],
   "source": [
    "img1 = cv2.imread('finger1.tif')\n",
    "img2 = cv2.imread('finger2.tif')\n",
    "\n",
    "score = match_fingerprints(img1, img2)\n",
    "print(f\"Matching Score: {score:.4f}\")\n",
    "\n",
    "if score > 0.5:\n",
    "    print(\"Fingerprints Matched\")\n",
    "else:\n",
    "    print(\"Fingerprints Not Matched\")\n"
   ]
  }
 ],
 "metadata": {
  "kernelspec": {
   "display_name": "env",
   "language": "python",
   "name": "python3"
  },
  "language_info": {
   "codemirror_mode": {
    "name": "ipython",
    "version": 3
   },
   "file_extension": ".py",
   "mimetype": "text/x-python",
   "name": "python",
   "nbconvert_exporter": "python",
   "pygments_lexer": "ipython3",
   "version": "3.9.10"
  }
 },
 "nbformat": 4,
 "nbformat_minor": 5
}
